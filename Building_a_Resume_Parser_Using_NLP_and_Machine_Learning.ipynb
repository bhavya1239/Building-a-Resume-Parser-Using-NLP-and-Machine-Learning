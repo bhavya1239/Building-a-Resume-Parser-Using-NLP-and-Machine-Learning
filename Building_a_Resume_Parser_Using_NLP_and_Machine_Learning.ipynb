{
  "cells": [
    {
      "cell_type": "markdown",
      "metadata": {
        "id": "view-in-github",
        "colab_type": "text"
      },
      "source": [
        "<a href=\"https://colab.research.google.com/github/bhavya1239/Building-a-Resume-Parser-Using-NLP-and-Machine-Learning/blob/main/Building_a_Resume_Parser_Using_NLP_and_Machine_Learning.ipynb\" target=\"_parent\"><img src=\"https://colab.research.google.com/assets/colab-badge.svg\" alt=\"Open In Colab\"/></a>"
      ]
    },
    {
      "cell_type": "markdown",
      "metadata": {
        "id": "kqQy9kXpIcBs"
      },
      "source": [
        "# Project 3 (Golden Project)\n",
        "# Name Of The Project : Building a Resume Parser Using NLP (Spacy) and Machine Learning"
      ]
    },
    {
      "cell_type": "markdown",
      "metadata": {
        "id": "2qrph0npibXz"
      },
      "source": [
        "# Importing the Libraries"
      ]
    },
    {
      "cell_type": "code",
      "execution_count": 1,
      "metadata": {
        "colab": {
          "base_uri": "https://localhost:8080/"
        },
        "id": "Dkhcyr6WoOmu",
        "outputId": "7a5b9145-a2d4-4b86-b04c-ef844f470ac0"
      },
      "outputs": [
        {
          "output_type": "stream",
          "name": "stderr",
          "text": [
            "[nltk_data] Downloading package averaged_perceptron_tagger to\n",
            "[nltk_data]     /root/nltk_data...\n",
            "[nltk_data]   Unzipping taggers/averaged_perceptron_tagger.zip.\n",
            "[nltk_data] Downloading package stopwords to /root/nltk_data...\n",
            "[nltk_data]   Unzipping corpora/stopwords.zip.\n",
            "[nltk_data] Downloading package wordnet to /root/nltk_data...\n",
            "[nltk_data] Downloading package omw-1.4 to /root/nltk_data...\n"
          ]
        }
      ],
      "source": [
        "import pandas\n",
        "import spacy\n",
        "import nltk\n",
        "import matplotlib.pyplot as plt\n",
        "nltk.download('averaged_perceptron_tagger')\n",
        "from nltk import pos_tag\n",
        "from nltk.corpus import stopwords\n",
        "nltk.download('stopwords')\n",
        "nltk.download('wordnet')\n",
        "nltk.download('omw-1.4')\n",
        "import string\n",
        "import re"
      ]
    },
    {
      "cell_type": "markdown",
      "metadata": {
        "id": "ySFSxLok_E94"
      },
      "source": [
        "# Displaying the skills required"
      ]
    },
    {
      "cell_type": "code",
      "execution_count": 2,
      "metadata": {
        "colab": {
          "base_uri": "https://localhost:8080/",
          "height": 140
        },
        "id": "9We29Lzq_Lrb",
        "outputId": "87f94817-9b24-4f89-e3cf-725d8229181f"
      },
      "outputs": [
        {
          "output_type": "execute_result",
          "data": {
            "text/plain": [
              "'Data mining or extracting usable data from valuable data sources Using machine learning tools to select features, create and optimize classifiers Carrying out preprocessing of structured and unstructured data Enhancing data collection procedures to include all relevant information for developing analytic systems Processing, cleansing, and validating the integrity of data to be used for analysis Analyzing large amounts of information to find patterns and solutions Developing prediction systems and machine learning algorithms Presenting results in a clear manner Propose solutions and strategies to tackle business challenges Collaborate with Business and IT teams Become a Data Science Expert & Get Your Dream Job Professional Certificate Program In Data ScienceEXPLORE PROGRAMBecome a Data Science Expert & Get Your Dream Job Data Scientist Skills You need to master the skills required for data scientist jobs in various industries and organizations if you want to pursue a data scientist career. Let’s look at the must-have data scientist qualifications. Key skills needed to become a data scientist: Programming Skills – knowledge of statistical programming languages like R, Python, and database query languages like SQL, Hive, Pig is desirable. Familiarity with Scala, Java, or C++ is an added advantage. Statistics – Good applied statistical skills, including knowledge of statistical tests, distributions, regression, maximum likelihood estimators, etc. Proficiency in statistics is essential for data-driven companies. Machine Learning – good knowledge of machine learning methods like k-Nearest Neighbors, Naive Bayes, SVM, Decision Forests. Strong Math Skills (Multivariable Calculus and Linear Algebra) - understanding the fundamentals of Multivariable Calculus and Linear Algebra is important as they form the basis of a lot of predictive performance or algorithm optimization techniques. Data Wrangling – proficiency in handling imperfections in data is an important aspect of a data scientist job description. Experience with Data Visualization Tools like matplotlib, ggplot, d3.js., Tableau that help to visually encode data Excellent Communication Skills – it is incredibly important to describe findings to a technical and non-technical audience. Strong Software Engineering Background Hands-on experience with data science tools Problem-solving aptitude Analytical mind and great business sense Degree in Computer Science, Engineering or relevant field is preferred Proven Experience as Data Analyst or Data Scientist'"
            ],
            "application/vnd.google.colaboratory.intrinsic+json": {
              "type": "string"
            }
          },
          "metadata": {},
          "execution_count": 2
        }
      ],
      "source": [
        "skills=\"Data mining or extracting usable data from valuable data sources Using machine learning tools to select features, create and optimize classifiers Carrying out preprocessing of structured and unstructured data Enhancing data collection procedures to include all relevant information for developing analytic systems Processing, cleansing, and validating the integrity of data to be used for analysis Analyzing large amounts of information to find patterns and solutions Developing prediction systems and machine learning algorithms Presenting results in a clear manner Propose solutions and strategies to tackle business challenges Collaborate with Business and IT teams Become a Data Science Expert & Get Your Dream Job Professional Certificate Program In Data ScienceEXPLORE PROGRAMBecome a Data Science Expert & Get Your Dream Job Data Scientist Skills You need to master the skills required for data scientist jobs in various industries and organizations if you want to pursue a data scientist career. Let’s look at the must-have data scientist qualifications. Key skills needed to become a data scientist: Programming Skills – knowledge of statistical programming languages like R, Python, and database query languages like SQL, Hive, Pig is desirable. Familiarity with Scala, Java, or C++ is an added advantage. Statistics – Good applied statistical skills, including knowledge of statistical tests, distributions, regression, maximum likelihood estimators, etc. Proficiency in statistics is essential for data-driven companies. Machine Learning – good knowledge of machine learning methods like k-Nearest Neighbors, Naive Bayes, SVM, Decision Forests. Strong Math Skills (Multivariable Calculus and Linear Algebra) - understanding the fundamentals of Multivariable Calculus and Linear Algebra is important as they form the basis of a lot of predictive performance or algorithm optimization techniques. Data Wrangling – proficiency in handling imperfections in data is an important aspect of a data scientist job description. Experience with Data Visualization Tools like matplotlib, ggplot, d3.js., Tableau that help to visually encode data Excellent Communication Skills – it is incredibly important to describe findings to a technical and non-technical audience. Strong Software Engineering Background Hands-on experience with data science tools Problem-solving aptitude Analytical mind and great business sense Degree in Computer Science, Engineering or relevant field is preferred Proven Experience as Data Analyst or Data Scientist\"\n",
        "skills"
      ]
    },
    {
      "cell_type": "markdown",
      "metadata": {
        "id": "IESp45opuZV8"
      },
      "source": [
        "# Preprocessing of skills data"
      ]
    },
    {
      "cell_type": "code",
      "execution_count": 3,
      "metadata": {
        "id": "96Fv363Hue26"
      },
      "outputs": [],
      "source": [
        "text_nonpunc=''.join([char for char in skills if char not in string.punctuation])\n",
        "skills=text_nonpunc\n",
        "tokens=re.split('\\W+',skills)\n",
        "skills=tokens\n",
        "stop_words=set(stopwords.words('english'))\n",
        "re_sw=[word for word in skills if word not in stop_words]\n",
        "skills=re_sw\n",
        "ln=nltk.WordNetLemmatizer()\n",
        "lemm=[ln.lemmatize(word) for word in skills]\n",
        "skills=lemm"
      ]
    },
    {
      "cell_type": "code",
      "execution_count": 4,
      "metadata": {
        "id": "vg5M77OFAVlS"
      },
      "outputs": [],
      "source": [
        "nlp = spacy.load(\"en_core_web_sm\")\n",
        "doc=nlp(' '.join([char for char in skills]))\n",
        "def tot_list(text):\n",
        "  return set(' '.join([char for char in text]).lower().split(' '))\n",
        "skills_list=set(' '.join([chunk.text for chunk in doc.noun_chunks]+[token.lemma_ for token in doc if token.pos_ == \"VERB\"]+[entity.text for entity in doc.ents]).lower().split(' '))\n"
      ]
    },
    {
      "cell_type": "markdown",
      "metadata": {
        "id": "NWWI5MdDDjER"
      },
      "source": [
        "# Displaying the skills list"
      ]
    },
    {
      "cell_type": "code",
      "execution_count": 5,
      "metadata": {
        "colab": {
          "base_uri": "https://localhost:8080/"
        },
        "id": "0rQex6TQDpHE",
        "outputId": "8bfada56-854d-497f-e4be-fbcb40f97ebe"
      },
      "outputs": [
        {
          "output_type": "execute_result",
          "data": {
            "text/plain": [
              "{'add',\n",
              " 'advantage',\n",
              " 'algebra',\n",
              " 'amount',\n",
              " 'analysis',\n",
              " 'analyst',\n",
              " 'analytic',\n",
              " 'analytical',\n",
              " 'analyze',\n",
              " 'apply',\n",
              " 'aspect',\n",
              " 'audience',\n",
              " 'background',\n",
              " 'bayes',\n",
              " 'become',\n",
              " 'business',\n",
              " 'c',\n",
              " 'calculus',\n",
              " 'career',\n",
              " 'carrying',\n",
              " 'certificate',\n",
              " 'challenge',\n",
              " 'classifier',\n",
              " 'cleanse',\n",
              " 'collaborate',\n",
              " 'collection',\n",
              " 'communication',\n",
              " 'company',\n",
              " 'computer',\n",
              " 'create',\n",
              " 'data',\n",
              " 'database',\n",
              " 'datadriven',\n",
              " 'decision',\n",
              " 'degree',\n",
              " 'describe',\n",
              " 'description',\n",
              " 'desirable',\n",
              " 'develop',\n",
              " 'dream',\n",
              " 'encode',\n",
              " 'engineering',\n",
              " 'enhance',\n",
              " 'enhancing',\n",
              " 'essential',\n",
              " 'estimator',\n",
              " 'etc',\n",
              " 'excellent',\n",
              " 'experience',\n",
              " 'expert',\n",
              " 'extract',\n",
              " 'familiarity',\n",
              " 'feature',\n",
              " 'field',\n",
              " 'find',\n",
              " 'forests',\n",
              " 'fundamental',\n",
              " 'get',\n",
              " 'ggplot',\n",
              " 'good',\n",
              " 'great',\n",
              " 'handling',\n",
              " 'handson',\n",
              " 'help',\n",
              " 'hive',\n",
              " 'imperfection',\n",
              " 'important',\n",
              " 'include',\n",
              " 'incredibly',\n",
              " 'industry',\n",
              " 'information',\n",
              " 'integrity',\n",
              " 'it',\n",
              " 'java',\n",
              " 'job',\n",
              " 'key',\n",
              " 'knearest',\n",
              " 'knowledge',\n",
              " 'language',\n",
              " 'large',\n",
              " 'learn',\n",
              " 'learning',\n",
              " 'let',\n",
              " 'likelihood',\n",
              " 'linear',\n",
              " 'look',\n",
              " 'machine',\n",
              " 'master',\n",
              " 'math',\n",
              " 'matplotlib',\n",
              " 'maximum',\n",
              " 'mind',\n",
              " 'mining',\n",
              " 'multivariable',\n",
              " 'musthave',\n",
              " 'naive',\n",
              " 'need',\n",
              " 'neighbors',\n",
              " 'nontechnical',\n",
              " 'optimize',\n",
              " 'organization',\n",
              " 'pattern',\n",
              " 'performance',\n",
              " 'pig',\n",
              " 'prediction',\n",
              " 'predictive',\n",
              " 'prefer',\n",
              " 'preferred',\n",
              " 'preprocesse',\n",
              " 'presenting',\n",
              " 'problemsolving',\n",
              " 'procedure',\n",
              " 'processing',\n",
              " 'professional',\n",
              " 'proficiency',\n",
              " 'program',\n",
              " 'programbecome',\n",
              " 'programming',\n",
              " 'proven',\n",
              " 'pursue',\n",
              " 'python',\n",
              " 'qualification',\n",
              " 'query',\n",
              " 'r',\n",
              " 'relevant',\n",
              " 'require',\n",
              " 'required',\n",
              " 'result',\n",
              " 'scala',\n",
              " 'science',\n",
              " 'scientist',\n",
              " 'select',\n",
              " 'sense',\n",
              " 'skill',\n",
              " 'skills',\n",
              " 'software',\n",
              " 'solution',\n",
              " 'source',\n",
              " 'sql',\n",
              " 'statistic',\n",
              " 'statistical',\n",
              " 'statistics',\n",
              " 'strong',\n",
              " 'structure',\n",
              " 'structured',\n",
              " 'svm',\n",
              " 'system',\n",
              " 'tableau',\n",
              " 'team',\n",
              " 'technical',\n",
              " 'tool',\n",
              " 'tools',\n",
              " 'understand',\n",
              " 'unstructured',\n",
              " 'usable',\n",
              " 'use',\n",
              " 'validate',\n",
              " 'validating',\n",
              " 'valuable',\n",
              " 'various',\n",
              " 'visualization',\n",
              " 'visually',\n",
              " 'want',\n",
              " 'wrangling',\n",
              " 'you',\n",
              " 'your'}"
            ]
          },
          "metadata": {},
          "execution_count": 5
        }
      ],
      "source": [
        "skills_list"
      ]
    },
    {
      "cell_type": "markdown",
      "metadata": {
        "id": "F2X92cQA-_ML"
      },
      "source": [
        "# Loading the dataset"
      ]
    },
    {
      "cell_type": "code",
      "execution_count": 7,
      "metadata": {
        "id": "mTLKw5ripKRP"
      },
      "outputs": [],
      "source": [
        "df=pandas.read_csv('/content/UpdatedResumeDataSet.csv')"
      ]
    },
    {
      "cell_type": "code",
      "execution_count": null,
      "metadata": {
        "id": "vS54SH3ppSrp"
      },
      "outputs": [],
      "source": [
        "df.head()"
      ]
    },
    {
      "cell_type": "code",
      "execution_count": null,
      "metadata": {
        "id": "U9HgfwuwKnU8"
      },
      "outputs": [],
      "source": [
        "df.info()"
      ]
    },
    {
      "cell_type": "markdown",
      "metadata": {
        "id": "L_zhr8ofKsJs"
      },
      "source": [
        "# There are total 962 records in dataset without any null values and the column names are **Category,Resume**"
      ]
    },
    {
      "cell_type": "markdown",
      "metadata": {
        "id": "j3RvetcOLF7N"
      },
      "source": [
        "# Description about columns\n",
        "\n",
        "1. Category =  It describes about the role/field of the job which the      applicants are insterested in\n",
        "\n",
        "2. Resume   =  It consists of the skills mentioned by the candidates"
      ]
    },
    {
      "cell_type": "code",
      "execution_count": null,
      "metadata": {
        "id": "paTasOrQpVNp"
      },
      "outputs": [],
      "source": [
        "df['Category'].value_counts()"
      ]
    },
    {
      "cell_type": "code",
      "execution_count": null,
      "metadata": {
        "id": "PK1w2rr7MsL8"
      },
      "outputs": [],
      "source": [
        "len(df['Category'].value_counts())"
      ]
    },
    {
      "cell_type": "markdown",
      "metadata": {
        "id": "Xe5_hdaQ1_-Q"
      },
      "source": [
        "# Bar plot to visualize the resume count in each category"
      ]
    },
    {
      "cell_type": "code",
      "execution_count": null,
      "metadata": {
        "id": "codBdRtC2Kj9"
      },
      "outputs": [],
      "source": [
        "fig=plt.figure(figsize=(55,10))\n",
        "plt.bar(df['Category'].value_counts().keys(),df['Category'].value_counts().values,width=0.4)\n",
        "plt.xlabel('Categories')\n",
        "plt.ylabel('count')"
      ]
    },
    {
      "cell_type": "markdown",
      "metadata": {
        "id": "EBMBu3miLz9G"
      },
      "source": [
        "# Observation in Category-wise bar chart\n",
        "\n",
        "* Candidates are mostly mentioned in the resume as Java Developers & Testing followed by Devops\n",
        "* Data Science is in 11th place out of 25 . There are only 40 records Iin Data Science Category\n",
        "* Resumes in Advocate category occupies the last place ( 20 records )"
      ]
    },
    {
      "cell_type": "markdown",
      "metadata": {
        "id": "h6GbjQi27KB-"
      },
      "source": [
        "# Merging Category and Resume column for finding matching words and phrases"
      ]
    },
    {
      "cell_type": "code",
      "execution_count": null,
      "metadata": {
        "id": "UB3eFT7wUZR6"
      },
      "outputs": [],
      "source": []
    },
    {
      "cell_type": "code",
      "execution_count": null,
      "metadata": {
        "id": "W7L2ta647Xtz"
      },
      "outputs": [],
      "source": [
        "df['info']=df['Category']+' '+df['Resume']"
      ]
    },
    {
      "cell_type": "markdown",
      "metadata": {
        "id": "3ar8xKJkRxCw"
      },
      "source": [
        "# Removing Punctuations in newly creating info column"
      ]
    },
    {
      "cell_type": "code",
      "execution_count": null,
      "metadata": {
        "id": "vtU11-f5RjzJ"
      },
      "outputs": [],
      "source": [
        "def remove_punc(text):\n",
        "  text_nonpunc=''.join([char for char in text if char not in string.punctuation])\n",
        "  return text_nonpunc\n",
        "df['clean_punc']=df['info'].apply(lambda x:remove_punc(x))\n",
        "df.to_csv('after_remove_punc',index=False)"
      ]
    },
    {
      "cell_type": "markdown",
      "metadata": {
        "id": "QtfoCPpgTkd8"
      },
      "source": [
        "# Tokenization"
      ]
    },
    {
      "cell_type": "code",
      "execution_count": null,
      "metadata": {
        "id": "gY0TounQTp2Y"
      },
      "outputs": [],
      "source": [
        "def token(text):\n",
        "  tokens=re.split('\\W+',text)\n",
        "  return tokens\n",
        "df['after_tokenization']=df['info'].apply(lambda x:token(x))\n",
        "df.to_csv('after_tokenization.csv',index=False)"
      ]
    },
    {
      "cell_type": "markdown",
      "metadata": {
        "id": "_jsktOXHVYyw"
      },
      "source": [
        "# pos tagging"
      ]
    },
    {
      "cell_type": "code",
      "execution_count": null,
      "metadata": {
        "id": "dJis-2e9Uu_n"
      },
      "outputs": [],
      "source": [
        "from nltk import pos_tag\n",
        "def pos_tag(text):\n",
        "  pos_text=nltk.pos_tag(text)\n",
        "  return pos_text\n",
        "df['after_pos_tagging']=df['after_tokenization'].apply(lambda x:pos_tag(x))\n",
        "df.to_csv('after_pos_tagging.csv',index=False)"
      ]
    },
    {
      "cell_type": "markdown",
      "metadata": {
        "id": "2VHzWUGfYqhS"
      },
      "source": [
        "# Removing stopwords"
      ]
    },
    {
      "cell_type": "code",
      "execution_count": null,
      "metadata": {
        "id": "TTbK5zqDYua4"
      },
      "outputs": [],
      "source": [
        "stop_words=set(stopwords.words('english'))\n",
        "def remove_stopword(text):\n",
        "  re_sw=[word for word in text if word not in stop_words]\n",
        "  return re_sw\n",
        "df['remove_sw']=df['after_tokenization'].apply(lambda x:remove_stopword(x))\n",
        "df.to_csv('after_re_sw.csv',index=False)"
      ]
    },
    {
      "cell_type": "markdown",
      "metadata": {
        "id": "RaN_YDuIo7vv"
      },
      "source": [
        "# Lemmatization"
      ]
    },
    {
      "cell_type": "code",
      "execution_count": null,
      "metadata": {
        "id": "SeSKEkCqo--W"
      },
      "outputs": [],
      "source": [
        "ln=nltk.WordNetLemmatizer()\n",
        "def lemm(text):\n",
        "  z=[ln.lemmatize(word) for word in text]\n",
        "  return z\n",
        "df['after_lemmatization']=df['remove_sw'].apply(lambda x:lemm(x))\n",
        "df.to_csv('after_lemmatization.csv',index=False)"
      ]
    },
    {
      "cell_type": "code",
      "execution_count": null,
      "metadata": {
        "id": "rMRYzLsFurcw"
      },
      "outputs": [],
      "source": [
        "nlp = spacy.load(\"en_core_web_sm\")"
      ]
    },
    {
      "cell_type": "markdown",
      "metadata": {
        "id": "84KLHmhwwyHs"
      },
      "source": [
        "# Displaying Noun phrases in each column"
      ]
    },
    {
      "cell_type": "code",
      "execution_count": null,
      "metadata": {
        "id": "wm0EZ6vJw9fK"
      },
      "outputs": [],
      "source": [
        "def noun_phrases(text):\n",
        "  x=' '.join([y for y in text])\n",
        "  doc=nlp(x)\n",
        "  return [chunk.text for chunk in doc.noun_chunks]\n",
        "df['noun_phrases']=df['after_lemmatization'].apply(lambda x:noun_phrases(x))\n",
        "df['noun_phrases']"
      ]
    },
    {
      "cell_type": "markdown",
      "metadata": {
        "id": "eozPZpFA10VY"
      },
      "source": [
        "# Displaying Verb forms in each column"
      ]
    },
    {
      "cell_type": "code",
      "execution_count": null,
      "metadata": {
        "id": "t2hp9CSQ1-O7"
      },
      "outputs": [],
      "source": [
        "def verb_forms(text):\n",
        "  x=' '.join([y for y in text])\n",
        "  doc=nlp(x)\n",
        "  return [token.lemma_ for token in doc if token.pos_ == \"VERB\"]\n",
        "df['verb_forms']=df['after_lemmatization'].apply(lambda x:verb_forms(x))\n",
        "df['verb_forms']"
      ]
    },
    {
      "cell_type": "markdown",
      "metadata": {
        "id": "zu23RJUr37IP"
      },
      "source": [
        "# Displaying named entities"
      ]
    },
    {
      "cell_type": "code",
      "execution_count": null,
      "metadata": {
        "id": "wBL1CoZ_4Av1"
      },
      "outputs": [],
      "source": [
        "def named_entities(text):\n",
        "  x=' '.join([y for y in text])\n",
        "  doc=nlp(x)\n",
        "  return [entity.text for entity in doc.ents]\n",
        "df['named_entities']=df['after_lemmatization'].apply(lambda x:named_entities(x))\n",
        "df['named_entities']"
      ]
    },
    {
      "cell_type": "markdown",
      "metadata": {
        "id": "RM48MRws8to2"
      },
      "source": [
        "# Merging noun phrases,verb forms,named entities as a single column to find the matched words & phrases"
      ]
    },
    {
      "cell_type": "code",
      "execution_count": null,
      "metadata": {
        "id": "jq2Ai70X89kX"
      },
      "outputs": [],
      "source": [
        "def string(text):\n",
        "  return set(' '.join([char for char in text]).lower().split(' '))\n",
        "df['total_words']=(df['noun_phrases']+df['verb_forms']+df['named_entities']).apply(lambda x:string(x))\n",
        "df['total_words']"
      ]
    },
    {
      "cell_type": "code",
      "execution_count": null,
      "metadata": {
        "id": "FyhLXp1GvhEG"
      },
      "outputs": [],
      "source": [
        "df['total_words'][0]"
      ]
    },
    {
      "cell_type": "markdown",
      "metadata": {
        "id": "DFxRpWAwuGxm"
      },
      "source": [
        "# Creating the no of skills matching column in each resume"
      ]
    },
    {
      "cell_type": "code",
      "execution_count": null,
      "metadata": {
        "id": "bjkFzV3Kk1h4"
      },
      "outputs": [],
      "source": [
        "def ct(text):\n",
        "  count=0\n",
        "  for i in text:\n",
        "    if i in skills_list:\n",
        "      count+=1\n",
        "  return count\n",
        "\n",
        "df['skills_matched']=df['total_words'].apply(lambda x:ct(x))\n",
        "df"
      ]
    },
    {
      "cell_type": "markdown",
      "metadata": {
        "id": "55D1oTtH0syL"
      },
      "source": [
        "# Displaying the top-10 resumes which matched more number of skills"
      ]
    },
    {
      "cell_type": "code",
      "execution_count": null,
      "metadata": {
        "id": "2RECoyFDlYTE"
      },
      "outputs": [],
      "source": [
        "df.sort_values(by='skills_matched',inplace=True,ascending=False)\n",
        "df[['Category','Resume','skills_matched']].head()"
      ]
    },
    {
      "cell_type": "markdown",
      "metadata": {
        "id": "LTammu47HrVN"
      },
      "source": [
        "# Resumes which skills matched more than 40"
      ]
    },
    {
      "cell_type": "code",
      "execution_count": null,
      "metadata": {
        "id": "wRt8znUxHRvc"
      },
      "outputs": [],
      "source": [
        "df[df['skills_matched']>=40][['Category','Resume','skills_matched']]"
      ]
    },
    {
      "cell_type": "code",
      "execution_count": null,
      "metadata": {
        "id": "IHAqUVGfHjts"
      },
      "outputs": [],
      "source": [
        "len(df[df['skills_matched']>=40][['Category','Resume','skills_matched']])"
      ]
    },
    {
      "cell_type": "markdown",
      "metadata": {
        "id": "nLsfCm4WIIUm"
      },
      "source": [
        "# There are 34 resumes which the number of skills matched is more than 40"
      ]
    },
    {
      "cell_type": "markdown",
      "metadata": {
        "id": "I6kc_8aJ4aH9"
      },
      "source": [
        "# Skills matching values & their record counts"
      ]
    },
    {
      "cell_type": "code",
      "execution_count": null,
      "metadata": {
        "id": "nTKWml_h-TmN"
      },
      "outputs": [],
      "source": [
        "df['skills_matched'].value_counts()"
      ]
    },
    {
      "cell_type": "code",
      "execution_count": null,
      "metadata": {
        "id": "dpkOXhFP4YLf"
      },
      "outputs": [],
      "source": [
        "plt.hist(df['skills_matched'],bins=25,color='coral')\n",
        "plt.ylim(0,20)\n",
        "plt.xlabel('Skills matching values')\n",
        "plt.ylabel('No of Records')\n",
        "plt.title('Skill matching values count in different ranges')"
      ]
    }
  ],
  "metadata": {
    "colab": {
      "provenance": [],
      "include_colab_link": true
    },
    "kernelspec": {
      "display_name": "Python 3 (ipykernel)",
      "language": "python",
      "name": "python3"
    },
    "language_info": {
      "codemirror_mode": {
        "name": "ipython",
        "version": 3
      },
      "file_extension": ".py",
      "mimetype": "text/x-python",
      "name": "python",
      "nbconvert_exporter": "python",
      "pygments_lexer": "ipython3",
      "version": "3.9.13"
    }
  },
  "nbformat": 4,
  "nbformat_minor": 0
}